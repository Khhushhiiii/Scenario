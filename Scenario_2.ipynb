{
  "cells": [
    {
      "cell_type": "markdown",
      "metadata": {
        "id": "view-in-github",
        "colab_type": "text"
      },
      "source": [
        "<a href=\"https://colab.research.google.com/github/Khhushhiiii/Scenario/blob/main/Scenario_2.ipynb\" target=\"_parent\"><img src=\"https://colab.research.google.com/assets/colab-badge.svg\" alt=\"Open In Colab\"/></a>"
      ]
    },
    {
      "cell_type": "markdown",
      "metadata": {
        "id": "r41pWNDSYue1"
      },
      "source": [
        "**SCENARIO 2**: An online fashion retailer wants to develop a machine learning model that can classify\n",
        "customer reviews into different sentiment categories. The model will take as input a\n",
        "customer review and output a prediction of the review's sentiment, such as positive,\n",
        "negative, or neutral. Develop a ML model for aforesaid classification with an example\n",
        "Dataset."
      ]
    },
    {
      "cell_type": "markdown",
      "metadata": {
        "id": "0aN8TwAHZSHa"
      },
      "source": [
        "**Project Introduction**\n",
        "\n",
        "For the above scenario, I am using Amazon reviews fashion dataset which contains customer reviews and their sentiments labeled as positive:1, negative:-1 and neutral:0 in the overall column.\n",
        "The process includes:\n",
        "*   Cleaning the text data (removing punctuation, converting to lowercase, etc.).\n",
        "*  Tokenizing the text (splitting it into words or subword units like tokens in BERT).\n",
        "*   Encoding the labels (converting \"positive,\" \"negative,\" and \"neutral\" to numerical values).\n",
        "* Splitting the data into training and testing sets.\n",
        "\n",
        "The following model will process the emoji's used by customers to express their sentiments.\n"
      ]
    },
    {
      "cell_type": "code",
      "execution_count": 20,
      "metadata": {
        "id": "d7HjJNRwWqUN",
        "colab": {
          "base_uri": "https://localhost:8080/",
          "height": 0
        },
        "outputId": "9d8b07a1-65c1-42e1-e05b-d923b633bc0f"
      },
      "outputs": [
        {
          "output_type": "stream",
          "name": "stdout",
          "text": [
            "Requirement already satisfied: emot in /usr/local/lib/python3.10/dist-packages (3.1)\n"
          ]
        }
      ],
      "source": [
        "# install emoji library\n",
        "!pip install emot"
      ]
    },
    {
      "cell_type": "code",
      "execution_count": null,
      "metadata": {
        "id": "ShQUSqzEW0sB"
      },
      "outputs": [],
      "source": [
        "#Importing the necessary libraries\n",
        "import pandas as pd\n",
        "import numpy as np\n",
        "import string\n",
        "\n",
        "# store models\n",
        "import pickle\n",
        "from sklearn.pipeline import Pipeline\n",
        "\n",
        "# text preprocessing\n",
        "import nltk\n",
        "from nltk import word_tokenize\n",
        "from nltk.stem import PorterStemmer\n",
        "from nltk.corpus import stopwords\n",
        "import re\n",
        "from emot.emo_unicode import EMOTICONS_EMO, UNICODE_EMOJI\n",
        "\n",
        "# plots and metrics\n",
        "import matplotlib.pyplot as plt\n",
        "import seaborn as sns\n",
        "plt.style.use('ggplot')\n",
        "from sklearn.metrics import accuracy_score, f1_score, confusion_matrix\n",
        "\n",
        "# feature extraction / vectorization\n",
        "from sklearn.feature_extraction.text import CountVectorizer, TfidfVectorizer\n",
        "\n",
        "# classifiers\n",
        "from sklearn.naive_bayes import MultinomialNB\n",
        "from sklearn.linear_model import LogisticRegression, SGDClassifier\n",
        "from sklearn.ensemble import RandomForestClassifier\n",
        "from sklearn.svm import LinearSVC"
      ]
    },
    {
      "cell_type": "code",
      "execution_count": null,
      "metadata": {
        "colab": {
          "base_uri": "https://localhost:8080/"
        },
        "id": "gneCz-qoW8Te",
        "outputId": "2f5defbd-3167-4d5f-99d1-d2da85f1ec99"
      },
      "outputs": [
        {
          "name": "stderr",
          "output_type": "stream",
          "text": [
            "[nltk_data] Downloading package punkt to /root/nltk_data...\n",
            "[nltk_data]   Unzipping tokenizers/punkt.zip.\n"
          ]
        },
        {
          "data": {
            "text/plain": [
              "True"
            ]
          },
          "execution_count": 3,
          "metadata": {},
          "output_type": "execute_result"
        }
      ],
      "source": [
        "nltk.download('punkt')"
      ]
    },
    {
      "cell_type": "code",
      "execution_count": null,
      "metadata": {
        "id": "BV5apotYW_dN"
      },
      "outputs": [],
      "source": [
        "#Uploading the files of different time interval\n",
        "file1 = \"/content/02_06.csv\"\n",
        "file2 = \"/content/07_12.csv\"\n",
        "file3 = \"/content/13_17.csv\"\n",
        "file4 = \"/content/18.csv\""
      ]
    },
    {
      "cell_type": "code",
      "execution_count": 47,
      "metadata": {
        "id": "eZpN6yD4XARO"
      },
      "outputs": [],
      "source": [
        "def load_data(file):\n",
        "  # read csv data and set columns\n",
        "  df = pd.read_csv(file,usecols=['overall', 'reviewTime','reviewText'])\n",
        "\n",
        "  # remove the duplicates if any\n",
        "  df.duplicated('reviewText').sum()\n",
        "  df.drop_duplicates(subset=['reviewText'],inplace=True)\n",
        "\n",
        "  # remove NaN rows\n",
        "  df.isnull().sum()\n",
        "  df.dropna(how='any',axis=0,inplace=True)\n",
        "  shape = df.shape\n",
        "  counts = df.overall.value_counts()# labels count\n",
        "\n",
        "  sns.countplot(df['overall']) # plot bar graph\n",
        "  fig = plt.gcf() # get current figure\n",
        "  fig.set_size_inches(5,5) # set the figure size\n",
        "  plt.title('overall') # add title to the figure\n",
        "\n",
        "  return df,shape,counts"
      ]
    },
    {
      "cell_type": "code",
      "source": [
        "import pandas as pd\n",
        "import seaborn as sns\n",
        "import matplotlib.pyplot as plt\n",
        "\n",
        "def load_data(file):\n",
        "    # Read CSV data and set columns\n",
        "    df = pd.read_csv(file, usecols=['overall', 'reviewTime', 'reviewText'])\n",
        "\n",
        "    # Remove duplicates if any\n",
        "    df.duplicated('reviewText').sum()\n",
        "    df.drop_duplicates(subset=['reviewText'], inplace=True)\n",
        "\n",
        "    # Remove NaN rows\n",
        "    df.isnull().sum()\n",
        "    df.dropna(how='any', axis=0, inplace=True)\n",
        "    shape = df.shape\n",
        "    counts = df['overall'].value_counts()  # Labels count\n",
        "\n",
        "    # Plot a bar graph with all unique 'overall' values\n",
        "    sns.countplot(data=df, x='overall')  # Use the 'overall' column from the DataFrame\n",
        "    fig = plt.gcf()  # Get current figure\n",
        "    fig.set_size_inches(5, 5)  # Set the figure size\n",
        "    plt.title('overall')  # Add title to the figure\n",
        "\n",
        "    return df, shape, counts"
      ],
      "metadata": {
        "id": "gIP1qTwssAbs"
      },
      "execution_count": 55,
      "outputs": []
    },
    {
      "cell_type": "markdown",
      "source": [
        "###Data Overview"
      ],
      "metadata": {
        "id": "wuSIk8wVvHfb"
      }
    },
    {
      "cell_type": "code",
      "source": [
        "df1.head(10)"
      ],
      "metadata": {
        "colab": {
          "base_uri": "https://localhost:8080/",
          "height": 362
        },
        "id": "QF79eKg7uFvP",
        "outputId": "2a1d169f-0df6-4cba-af73-788c2a5f58ed"
      },
      "execution_count": 65,
      "outputs": [
        {
          "output_type": "execute_result",
          "data": {
            "text/plain": [
              "   overall  reviewTime                                         reviewText\n",
              "0      1.0        2006  This China Silk Black Balaclava is great for k...\n",
              "1      1.0        2004  This item is very lightweight (as you'd expect...\n",
              "2      1.0        2006  This item came in only 2 days and in perfect c...\n",
              "3      1.0        2006  This ring was well worth the price. It has a l...\n",
              "4      1.0        2006  It was exactly as described.  Beautiful ring, ...\n",
              "5      1.0        2005  This is a nice ring.  It is simple and elegant...\n",
              "6      1.0        2005  it is a beautiful ring. very shiny and classy....\n",
              "7      1.0        2004  When I first saw this offer last year, I could...\n",
              "8      1.0        2004  Socks seem like a strange kind of thing on whi...\n",
              "9      1.0        2003  I ordered these socks for my Mother's birthday..."
            ],
            "text/html": [
              "\n",
              "  <div id=\"df-acb89510-2116-4e44-be08-c048ee0e0e99\" class=\"colab-df-container\">\n",
              "    <div>\n",
              "<style scoped>\n",
              "    .dataframe tbody tr th:only-of-type {\n",
              "        vertical-align: middle;\n",
              "    }\n",
              "\n",
              "    .dataframe tbody tr th {\n",
              "        vertical-align: top;\n",
              "    }\n",
              "\n",
              "    .dataframe thead th {\n",
              "        text-align: right;\n",
              "    }\n",
              "</style>\n",
              "<table border=\"1\" class=\"dataframe\">\n",
              "  <thead>\n",
              "    <tr style=\"text-align: right;\">\n",
              "      <th></th>\n",
              "      <th>overall</th>\n",
              "      <th>reviewTime</th>\n",
              "      <th>reviewText</th>\n",
              "    </tr>\n",
              "  </thead>\n",
              "  <tbody>\n",
              "    <tr>\n",
              "      <th>0</th>\n",
              "      <td>1.0</td>\n",
              "      <td>2006</td>\n",
              "      <td>This China Silk Black Balaclava is great for k...</td>\n",
              "    </tr>\n",
              "    <tr>\n",
              "      <th>1</th>\n",
              "      <td>1.0</td>\n",
              "      <td>2004</td>\n",
              "      <td>This item is very lightweight (as you'd expect...</td>\n",
              "    </tr>\n",
              "    <tr>\n",
              "      <th>2</th>\n",
              "      <td>1.0</td>\n",
              "      <td>2006</td>\n",
              "      <td>This item came in only 2 days and in perfect c...</td>\n",
              "    </tr>\n",
              "    <tr>\n",
              "      <th>3</th>\n",
              "      <td>1.0</td>\n",
              "      <td>2006</td>\n",
              "      <td>This ring was well worth the price. It has a l...</td>\n",
              "    </tr>\n",
              "    <tr>\n",
              "      <th>4</th>\n",
              "      <td>1.0</td>\n",
              "      <td>2006</td>\n",
              "      <td>It was exactly as described.  Beautiful ring, ...</td>\n",
              "    </tr>\n",
              "    <tr>\n",
              "      <th>5</th>\n",
              "      <td>1.0</td>\n",
              "      <td>2005</td>\n",
              "      <td>This is a nice ring.  It is simple and elegant...</td>\n",
              "    </tr>\n",
              "    <tr>\n",
              "      <th>6</th>\n",
              "      <td>1.0</td>\n",
              "      <td>2005</td>\n",
              "      <td>it is a beautiful ring. very shiny and classy....</td>\n",
              "    </tr>\n",
              "    <tr>\n",
              "      <th>7</th>\n",
              "      <td>1.0</td>\n",
              "      <td>2004</td>\n",
              "      <td>When I first saw this offer last year, I could...</td>\n",
              "    </tr>\n",
              "    <tr>\n",
              "      <th>8</th>\n",
              "      <td>1.0</td>\n",
              "      <td>2004</td>\n",
              "      <td>Socks seem like a strange kind of thing on whi...</td>\n",
              "    </tr>\n",
              "    <tr>\n",
              "      <th>9</th>\n",
              "      <td>1.0</td>\n",
              "      <td>2003</td>\n",
              "      <td>I ordered these socks for my Mother's birthday...</td>\n",
              "    </tr>\n",
              "  </tbody>\n",
              "</table>\n",
              "</div>\n",
              "    <div class=\"colab-df-buttons\">\n",
              "\n",
              "  <div class=\"colab-df-container\">\n",
              "    <button class=\"colab-df-convert\" onclick=\"convertToInteractive('df-acb89510-2116-4e44-be08-c048ee0e0e99')\"\n",
              "            title=\"Convert this dataframe to an interactive table.\"\n",
              "            style=\"display:none;\">\n",
              "\n",
              "  <svg xmlns=\"http://www.w3.org/2000/svg\" height=\"24px\" viewBox=\"0 -960 960 960\">\n",
              "    <path d=\"M120-120v-720h720v720H120Zm60-500h600v-160H180v160Zm220 220h160v-160H400v160Zm0 220h160v-160H400v160ZM180-400h160v-160H180v160Zm440 0h160v-160H620v160ZM180-180h160v-160H180v160Zm440 0h160v-160H620v160Z\"/>\n",
              "  </svg>\n",
              "    </button>\n",
              "\n",
              "  <style>\n",
              "    .colab-df-container {\n",
              "      display:flex;\n",
              "      gap: 12px;\n",
              "    }\n",
              "\n",
              "    .colab-df-convert {\n",
              "      background-color: #E8F0FE;\n",
              "      border: none;\n",
              "      border-radius: 50%;\n",
              "      cursor: pointer;\n",
              "      display: none;\n",
              "      fill: #1967D2;\n",
              "      height: 32px;\n",
              "      padding: 0 0 0 0;\n",
              "      width: 32px;\n",
              "    }\n",
              "\n",
              "    .colab-df-convert:hover {\n",
              "      background-color: #E2EBFA;\n",
              "      box-shadow: 0px 1px 2px rgba(60, 64, 67, 0.3), 0px 1px 3px 1px rgba(60, 64, 67, 0.15);\n",
              "      fill: #174EA6;\n",
              "    }\n",
              "\n",
              "    .colab-df-buttons div {\n",
              "      margin-bottom: 4px;\n",
              "    }\n",
              "\n",
              "    [theme=dark] .colab-df-convert {\n",
              "      background-color: #3B4455;\n",
              "      fill: #D2E3FC;\n",
              "    }\n",
              "\n",
              "    [theme=dark] .colab-df-convert:hover {\n",
              "      background-color: #434B5C;\n",
              "      box-shadow: 0px 1px 3px 1px rgba(0, 0, 0, 0.15);\n",
              "      filter: drop-shadow(0px 1px 2px rgba(0, 0, 0, 0.3));\n",
              "      fill: #FFFFFF;\n",
              "    }\n",
              "  </style>\n",
              "\n",
              "    <script>\n",
              "      const buttonEl =\n",
              "        document.querySelector('#df-acb89510-2116-4e44-be08-c048ee0e0e99 button.colab-df-convert');\n",
              "      buttonEl.style.display =\n",
              "        google.colab.kernel.accessAllowed ? 'block' : 'none';\n",
              "\n",
              "      async function convertToInteractive(key) {\n",
              "        const element = document.querySelector('#df-acb89510-2116-4e44-be08-c048ee0e0e99');\n",
              "        const dataTable =\n",
              "          await google.colab.kernel.invokeFunction('convertToInteractive',\n",
              "                                                    [key], {});\n",
              "        if (!dataTable) return;\n",
              "\n",
              "        const docLinkHtml = 'Like what you see? Visit the ' +\n",
              "          '<a target=\"_blank\" href=https://colab.research.google.com/notebooks/data_table.ipynb>data table notebook</a>'\n",
              "          + ' to learn more about interactive tables.';\n",
              "        element.innerHTML = '';\n",
              "        dataTable['output_type'] = 'display_data';\n",
              "        await google.colab.output.renderOutput(dataTable, element);\n",
              "        const docLink = document.createElement('div');\n",
              "        docLink.innerHTML = docLinkHtml;\n",
              "        element.appendChild(docLink);\n",
              "      }\n",
              "    </script>\n",
              "  </div>\n",
              "\n",
              "\n",
              "<div id=\"df-eff8624b-7abb-4c7e-a30c-caabf6ec9075\">\n",
              "  <button class=\"colab-df-quickchart\" onclick=\"quickchart('df-eff8624b-7abb-4c7e-a30c-caabf6ec9075')\"\n",
              "            title=\"Suggest charts\"\n",
              "            style=\"display:none;\">\n",
              "\n",
              "<svg xmlns=\"http://www.w3.org/2000/svg\" height=\"24px\"viewBox=\"0 0 24 24\"\n",
              "     width=\"24px\">\n",
              "    <g>\n",
              "        <path d=\"M19 3H5c-1.1 0-2 .9-2 2v14c0 1.1.9 2 2 2h14c1.1 0 2-.9 2-2V5c0-1.1-.9-2-2-2zM9 17H7v-7h2v7zm4 0h-2V7h2v10zm4 0h-2v-4h2v4z\"/>\n",
              "    </g>\n",
              "</svg>\n",
              "  </button>\n",
              "\n",
              "<style>\n",
              "  .colab-df-quickchart {\n",
              "      --bg-color: #E8F0FE;\n",
              "      --fill-color: #1967D2;\n",
              "      --hover-bg-color: #E2EBFA;\n",
              "      --hover-fill-color: #174EA6;\n",
              "      --disabled-fill-color: #AAA;\n",
              "      --disabled-bg-color: #DDD;\n",
              "  }\n",
              "\n",
              "  [theme=dark] .colab-df-quickchart {\n",
              "      --bg-color: #3B4455;\n",
              "      --fill-color: #D2E3FC;\n",
              "      --hover-bg-color: #434B5C;\n",
              "      --hover-fill-color: #FFFFFF;\n",
              "      --disabled-bg-color: #3B4455;\n",
              "      --disabled-fill-color: #666;\n",
              "  }\n",
              "\n",
              "  .colab-df-quickchart {\n",
              "    background-color: var(--bg-color);\n",
              "    border: none;\n",
              "    border-radius: 50%;\n",
              "    cursor: pointer;\n",
              "    display: none;\n",
              "    fill: var(--fill-color);\n",
              "    height: 32px;\n",
              "    padding: 0;\n",
              "    width: 32px;\n",
              "  }\n",
              "\n",
              "  .colab-df-quickchart:hover {\n",
              "    background-color: var(--hover-bg-color);\n",
              "    box-shadow: 0 1px 2px rgba(60, 64, 67, 0.3), 0 1px 3px 1px rgba(60, 64, 67, 0.15);\n",
              "    fill: var(--button-hover-fill-color);\n",
              "  }\n",
              "\n",
              "  .colab-df-quickchart-complete:disabled,\n",
              "  .colab-df-quickchart-complete:disabled:hover {\n",
              "    background-color: var(--disabled-bg-color);\n",
              "    fill: var(--disabled-fill-color);\n",
              "    box-shadow: none;\n",
              "  }\n",
              "\n",
              "  .colab-df-spinner {\n",
              "    border: 2px solid var(--fill-color);\n",
              "    border-color: transparent;\n",
              "    border-bottom-color: var(--fill-color);\n",
              "    animation:\n",
              "      spin 1s steps(1) infinite;\n",
              "  }\n",
              "\n",
              "  @keyframes spin {\n",
              "    0% {\n",
              "      border-color: transparent;\n",
              "      border-bottom-color: var(--fill-color);\n",
              "      border-left-color: var(--fill-color);\n",
              "    }\n",
              "    20% {\n",
              "      border-color: transparent;\n",
              "      border-left-color: var(--fill-color);\n",
              "      border-top-color: var(--fill-color);\n",
              "    }\n",
              "    30% {\n",
              "      border-color: transparent;\n",
              "      border-left-color: var(--fill-color);\n",
              "      border-top-color: var(--fill-color);\n",
              "      border-right-color: var(--fill-color);\n",
              "    }\n",
              "    40% {\n",
              "      border-color: transparent;\n",
              "      border-right-color: var(--fill-color);\n",
              "      border-top-color: var(--fill-color);\n",
              "    }\n",
              "    60% {\n",
              "      border-color: transparent;\n",
              "      border-right-color: var(--fill-color);\n",
              "    }\n",
              "    80% {\n",
              "      border-color: transparent;\n",
              "      border-right-color: var(--fill-color);\n",
              "      border-bottom-color: var(--fill-color);\n",
              "    }\n",
              "    90% {\n",
              "      border-color: transparent;\n",
              "      border-bottom-color: var(--fill-color);\n",
              "    }\n",
              "  }\n",
              "</style>\n",
              "\n",
              "  <script>\n",
              "    async function quickchart(key) {\n",
              "      const quickchartButtonEl =\n",
              "        document.querySelector('#' + key + ' button');\n",
              "      quickchartButtonEl.disabled = true;  // To prevent multiple clicks.\n",
              "      quickchartButtonEl.classList.add('colab-df-spinner');\n",
              "      try {\n",
              "        const charts = await google.colab.kernel.invokeFunction(\n",
              "            'suggestCharts', [key], {});\n",
              "      } catch (error) {\n",
              "        console.error('Error during call to suggestCharts:', error);\n",
              "      }\n",
              "      quickchartButtonEl.classList.remove('colab-df-spinner');\n",
              "      quickchartButtonEl.classList.add('colab-df-quickchart-complete');\n",
              "    }\n",
              "    (() => {\n",
              "      let quickchartButtonEl =\n",
              "        document.querySelector('#df-eff8624b-7abb-4c7e-a30c-caabf6ec9075 button');\n",
              "      quickchartButtonEl.style.display =\n",
              "        google.colab.kernel.accessAllowed ? 'block' : 'none';\n",
              "    })();\n",
              "  </script>\n",
              "</div>\n",
              "    </div>\n",
              "  </div>\n"
            ]
          },
          "metadata": {},
          "execution_count": 65
        }
      ]
    },
    {
      "cell_type": "markdown",
      "source": [
        "###Visualizing the data and the count of reviews for every time interval"
      ],
      "metadata": {
        "id": "Edk3aPnuvKm6"
      }
    },
    {
      "cell_type": "code",
      "execution_count": 51,
      "metadata": {
        "colab": {
          "base_uri": "https://localhost:8080/",
          "height": 582
        },
        "id": "tE35O9H8XDw3",
        "outputId": "14f2fa81-bb11-4381-bf4c-ed9c69bffe31"
      },
      "outputs": [
        {
          "output_type": "stream",
          "name": "stdout",
          "text": [
            "(530, 3)\n",
            " 1.0    386\n",
            "-1.0     98\n",
            " 0.0     46\n",
            "Name: overall, dtype: int64\n"
          ]
        },
        {
          "output_type": "display_data",
          "data": {
            "text/plain": [
              "<Figure size 500x500 with 1 Axes>"
            ],
            "image/png": "[encoded data removed]"
          },
          "metadata": {}
        }
      ],
      "source": [
        "# load data for 1998 - 2006\n",
        "df1,shape1,counts1 = load_data(file1)\n",
        "print(shape1)\n",
        "print(counts1)\n",
        "df1.head()\n",
        "plt.show()"
      ]
    },
    {
      "cell_type": "code",
      "execution_count": 52,
      "metadata": {
        "colab": {
          "base_uri": "https://localhost:8080/",
          "height": 582
        },
        "id": "Tm5yBdMlXFw5",
        "outputId": "ac7327d2-8d9d-4ea1-d5b3-f0c43e2e0031"
      },
      "outputs": [
        {
          "output_type": "stream",
          "name": "stdout",
          "text": [
            "(16800, 3)\n",
            " 1.0    12574\n",
            "-1.0     2657\n",
            " 0.0     1569\n",
            "Name: overall, dtype: int64\n"
          ]
        },
        {
          "output_type": "display_data",
          "data": {
            "text/plain": [
              "<Figure size 500x500 with 1 Axes>"
            ],
            "image/png": "[encoded data removed]"
          },
          "metadata": {}
        }
      ],
      "source": [
        "# load data for 2007 - 2012\n",
        "df2,shape2,counts2 = load_data(file2)\n",
        "print(shape2)\n",
        "print(counts2)\n",
        "df2.head()\n",
        "plt.show()"
      ]
    },
    {
      "cell_type": "code",
      "execution_count": 53,
      "metadata": {
        "colab": {
          "base_uri": "https://localhost:8080/",
          "height": 582
        },
        "id": "uN27tTVGXIC_",
        "outputId": "e01b46f6-0b53-43e3-f427-4694e673e51c"
      },
      "outputs": [
        {
          "output_type": "stream",
          "name": "stdout",
          "text": [
            "(614812, 3)\n",
            " 1.0    413534\n",
            "-1.0    130175\n",
            " 0.0     71103\n",
            "Name: overall, dtype: int64\n"
          ]
        },
        {
          "output_type": "display_data",
          "data": {
            "text/plain": [
              "<Figure size 500x500 with 1 Axes>"
            ],
            "image/png": "[encoded data removed]"
          },
          "metadata": {}
        }
      ],
      "source": [
        "# load data for 2013 - 2017\n",
        "df3,shape3,counts3 = load_data(file3)\n",
        "print(shape3)\n",
        "print(counts3)\n",
        "df3.head()\n",
        "plt.show()"
      ]
    },
    {
      "cell_type": "code",
      "execution_count": 54,
      "metadata": {
        "colab": {
          "base_uri": "https://localhost:8080/",
          "height": 582
        },
        "id": "q6y0Z45gXJ7A",
        "outputId": "5f308d62-f8f0-4e5d-9906-f9177c294bc0"
      },
      "outputs": [
        {
          "output_type": "stream",
          "name": "stdout",
          "text": [
            "(47246, 3)\n",
            " 1.0    33622\n",
            "-1.0     8865\n",
            " 0.0     4759\n",
            "Name: overall, dtype: int64\n"
          ]
        },
        {
          "output_type": "display_data",
          "data": {
            "text/plain": [
              "<Figure size 500x500 with 1 Axes>"
            ],
            "image/png": "[encoded data removed]"
          },
          "metadata": {}
        }
      ],
      "source": [
        "# load data for 2018\n",
        "df4,shape4,counts4 = load_data(file4)\n",
        "print(shape4)\n",
        "print(counts4)\n",
        "df4.head()\n",
        "plt.show()"
      ]
    },
    {
      "cell_type": "code",
      "execution_count": 25,
      "metadata": {
        "id": "gjrIwN0mXMfj"
      },
      "outputs": [],
      "source": [
        "def split_balance(df,counts):\n",
        "  # get data of each class\n",
        "  groups = df.groupby(df.overall)\n",
        "  pos = groups.get_group(1)\n",
        "  neu = groups.get_group(0)\n",
        "  neg = groups.get_group(-1)\n",
        "\n",
        "  # shuffle the dataframe\n",
        "  pos = pos.sample(frac=1.0)\n",
        "  neu = neu.sample(frac=1.0)\n",
        "  neg = neg.sample(frac=1.0)\n",
        "\n",
        "  # compute the index to split 80% for train 20% for test\n",
        "  posind = int(counts[1]*0.8)\n",
        "  neuind = int(counts[0]*0.8)\n",
        "  negind = int(counts[-1]*0.8)\n",
        "\n",
        "  # split to get train for each class\n",
        "  pos_train = pos.iloc[:posind,:]\n",
        "  neu_train = neu.iloc[:neuind,:]\n",
        "  neg_train = neg.iloc[:negind,:]\n",
        "\n",
        "  # split to get test for each class\n",
        "  pos_test = pos.iloc[posind:,:]\n",
        "  neu_test = neu.iloc[neuind:,:]\n",
        "  neg_test = neg.iloc[negind:,:]\n",
        "\n",
        "  # combine train dataset\n",
        "  df_train = pd.concat([pos_train, neu_train, neg_train],sort=False).sample(frac=1.0)\n",
        "  df_train_label = df_train.overall\n",
        "\n",
        "  # combine test dataset\n",
        "  df_test = pd.concat([pos_test, neu_test, neg_test],sort=False).sample(frac=1.0)\n",
        "  df_test_label = df_test.overall\n",
        "\n",
        "  return df_train,df_train_label,df_test,df_test_label"
      ]
    },
    {
      "cell_type": "code",
      "execution_count": null,
      "metadata": {
        "id": "NUzLdgt3XVRU"
      },
      "outputs": [],
      "source": [
        "# split train and test data for 1998 - 2006\n",
        "df1_train,df1_train_label,df1_test,df1_test_label = split_balance(df1,counts1)\n",
        "\n",
        "# get train and test text\n",
        "df1_train_data = df1_train.reviewText\n",
        "df1_test_data = df1_test.reviewText"
      ]
    },
    {
      "cell_type": "code",
      "execution_count": null,
      "metadata": {
        "id": "pWjG_E9aXWyZ"
      },
      "outputs": [],
      "source": [
        "# split train and test data for 2007 - 2012\n",
        "df2_train,df2_train_label,df2_test,df2_test_label = split_balance(df2,counts2)\n",
        "\n",
        "# get train and test text\n",
        "df2_train_data = df2_train.reviewText\n",
        "df2_test_data = df2_test.reviewText"
      ]
    },
    {
      "cell_type": "code",
      "execution_count": null,
      "metadata": {
        "id": "_3kgp2pAXYYN"
      },
      "outputs": [],
      "source": [
        "# split train and test data for 2013 - 2017\n",
        "df3_train,df3_train_label,df3_test,df3_test_label = split_balance(df3,counts3)\n",
        "\n",
        "# get train and test text\n",
        "df3_train_data = df3_train.reviewText\n",
        "df3_test_data = df3_test.reviewText"
      ]
    },
    {
      "cell_type": "code",
      "execution_count": null,
      "metadata": {
        "id": "Xkgp_j_fXZ4s"
      },
      "outputs": [],
      "source": [
        "# split train and test data for 2018\n",
        "df4_train,df4_train_label,df4_test,df4_test_label = split_balance(df4,counts4)\n",
        "\n",
        "# get train and test text\n",
        "df4_train_data = df4_train.reviewText\n",
        "df4_test_data = df4_test.reviewText"
      ]
    },
    {
      "cell_type": "code",
      "execution_count": null,
      "metadata": {
        "id": "JyhLtY6FXbqT"
      },
      "outputs": [],
      "source": [
        "# Defining my NLTK stop words and my user-defined stop words\n",
        "emojis = {**UNICODE_EMOJI,**EMOTICONS_EMO} # full list of emojis unicodes"
      ]
    },
    {
      "cell_type": "code",
      "execution_count": 26,
      "metadata": {
        "id": "hIM-Gcx_XeXr"
      },
      "outputs": [],
      "source": [
        "def processtext(txt):\n",
        "  # convert tweet to lower case\n",
        "  txt = txt.lower()\n",
        "  # remove all html tag\n",
        "  txt = re.sub(\"(<.*?>)\", \"\", txt)\n",
        "  # remove all urls\n",
        "  txt = re.sub('https?:\\/\\/\\S+','',txt)\n",
        "  # remove @ references\n",
        "  txt = re.sub('@[\\w_]+','',txt)\n",
        "  # remove # hashtags\n",
        "  txt = re.sub('#\\S+','',txt)\n",
        "  # replace all emojis\n",
        "  for emo in emojis.keys():\n",
        "    txt = txt.replace(emo,\"EMOJI \"+emojis[emo])\n",
        "  # remove all multiple white spaces\n",
        "  txt = re.sub('[\\s]+',' ',txt)\n",
        "  # remove all punctuations and non-ascii\n",
        "  txt = re.sub('[\\.?!,;:\\-\\[\\]\\{\\}\\(\\)\\'\\\"/]','',txt)\n",
        "  # remove whitespace\n",
        "  txt = txt.strip()\n",
        "\n",
        "  # tokenization with nltk\n",
        "  data = word_tokenize(txt)\n",
        "  # stemming with nltk\n",
        "  porter = PorterStemmer()\n",
        "  stem_data = [porter.stem(word) for word in data]\n",
        "  return stem_data"
      ]
    },
    {
      "cell_type": "code",
      "execution_count": null,
      "metadata": {
        "colab": {
          "base_uri": "https://localhost:8080/"
        },
        "id": "Ff-cMjKtXgjP",
        "outputId": "2e296c30-cc8e-4188-911b-cca65470578c"
      },
      "outputs": [
        {
          "name": "stderr",
          "output_type": "stream",
          "text": [
            "/usr/local/lib/python3.10/dist-packages/sklearn/feature_extraction/text.py:528: UserWarning: The parameter 'token_pattern' will not be used since 'tokenizer' is not None'\n",
            "  warnings.warn(\n"
          ]
        }
      ],
      "source": [
        "# 5min\n",
        "# TFIDF, unigrams and trigrams\n",
        "tf_vect1 = TfidfVectorizer(tokenizer=processtext, sublinear_tf=True, norm='l2', ngram_range=(1,3))\n",
        "# fit on previous 2013 data\n",
        "tf_vect1.fit_transform(df1.reviewText)\n",
        "\n",
        "# transform testing and training datasets to vectors\n",
        "df1_train_vect = tf_vect1.transform(df1_train_data)\n",
        "df1_test_vect = tf_vect1.transform(df1_test_data)\n",
        "\n",
        "# transform on 2018 test data\n",
        "df4_test_vect = tf_vect1.transform(df4_test_data)"
      ]
    },
    {
      "cell_type": "code",
      "execution_count": null,
      "metadata": {
        "id": "kYpMEkPLXiT9"
      },
      "outputs": [],
      "source": [
        "# 14min\n",
        "tf_vect2 = TfidfVectorizer(tokenizer=processtext, sublinear_tf=True, norm='l2', ngram_range=(1,3))\n",
        "tf_vect2.fit_transform(df2.reviewText)\n",
        "df2_train_vect = tf_vect2.transform(df2_train_data)\n",
        "df2_test_vect = tf_vect2.transform(df2_test_data)\n",
        "\n",
        "# transform on 2018 test data\n",
        "df4_test_vect2 = tf_vect2.transform(df4_test_data)"
      ]
    },
    {
      "cell_type": "code",
      "execution_count": null,
      "metadata": {
        "colab": {
          "background_save": true
        },
        "id": "NHRMn-E-XkJ3"
      },
      "outputs": [],
      "source": [
        "# 21min\n",
        "tf_vect3 = TfidfVectorizer(tokenizer=processtext, sublinear_tf=True, norm='l2', ngram_range=(1,3))\n",
        "tf_vect3.fit_transform(df3.reviewText)\n",
        "df3_train_vect = tf_vect3.transform(df3_train_data)\n",
        "df3_test_vect = tf_vect3.transform(df3_test_data)\n",
        "\n",
        "# transform on 2018 test data\n",
        "df4_test_vect3 = tf_vect3.transform(df4_test_data)"
      ]
    },
    {
      "cell_type": "code",
      "execution_count": 27,
      "metadata": {
        "id": "CuwvasSqXmQM",
        "colab": {
          "base_uri": "https://localhost:8080/",
          "height": 0
        },
        "outputId": "a2fa679d-f439-496b-a9d4-17bffda216e8"
      },
      "outputs": [
        {
          "output_type": "stream",
          "name": "stdout",
          "text": [
            "Accuracy: 72.22%\n",
            "\n",
            "F1 Score: 72.22\n"
          ]
        }
      ],
      "source": [
        "svc1 = LinearSVC(C=1.0, class_weight=None, dual=True, fit_intercept=True,\n",
        "     intercept_scaling=1, loss='squared_hinge', max_iter=1000,\n",
        "     multi_class='ovr', penalty='l2', random_state=None, tol=0.0001,\n",
        "     verbose=0)\n",
        "svc1.fit(df1_train_vect, df1_train_label)\n",
        "ysvm_pred = svc1.predict(df1_test_vect)\n",
        "\n",
        "print(\"Accuracy: {:.2f}%\".format(accuracy_score(df1_test_label, ysvm_pred) * 100))\n",
        "print(\"\\nF1 Score: {:.2f}\".format(f1_score(df1_test_label, ysvm_pred, average='micro') * 100))"
      ]
    },
    {
      "cell_type": "code",
      "execution_count": 28,
      "metadata": {
        "id": "etQjnDYuXoLl",
        "colab": {
          "base_uri": "https://localhost:8080/",
          "height": 0
        },
        "outputId": "4e9282e1-5ed3-40f3-bfbd-45726e077c1c"
      },
      "outputs": [
        {
          "output_type": "stream",
          "name": "stdout",
          "text": [
            "Accuracy: 71.63%\n",
            "\n",
            "F1 Score: 71.63\n"
          ]
        }
      ],
      "source": [
        "# estimate on 2018 data\n",
        "ysvm_pred_18 = svc1.predict(df4_test_vect)\n",
        "print(\"Accuracy: {:.2f}%\".format(accuracy_score(df4_test_label, ysvm_pred_18) * 100))\n",
        "print(\"\\nF1 Score: {:.2f}\".format(f1_score(df4_test_label, ysvm_pred_18, average='micro') * 100))"
      ]
    },
    {
      "cell_type": "code",
      "execution_count": 29,
      "metadata": {
        "id": "gVwsXaUXXqON",
        "colab": {
          "base_uri": "https://localhost:8080/",
          "height": 0
        },
        "outputId": "39be7692-66a8-4b43-b41f-8ca3846101df"
      },
      "outputs": [
        {
          "output_type": "stream",
          "name": "stdout",
          "text": [
            "Accuracy: 72.22%\n",
            "\n",
            "F1 Score: 72.22\n"
          ]
        }
      ],
      "source": [
        "lr1=LogisticRegression(C=10.0, class_weight=None, dual=False, fit_intercept=True,\n",
        "                   intercept_scaling=1, l1_ratio=None, max_iter=200,\n",
        "                   multi_class='auto', n_jobs=None, penalty='l2',\n",
        "                   random_state=None, solver='lbfgs', tol=0.0001, verbose=0,\n",
        "                   warm_start=False)\n",
        "lr1.fit(df1_train_vect, df1_train_label)\n",
        "ylog_pred = lr1.predict(df1_test_vect)\n",
        "\n",
        "print(\"Accuracy: {:.2f}%\".format(accuracy_score(df1_test_label, ylog_pred) * 100))\n",
        "print(\"\\nF1 Score: {:.2f}\".format(f1_score(df1_test_label, ylog_pred, average='micro') * 100))"
      ]
    },
    {
      "cell_type": "code",
      "execution_count": 30,
      "metadata": {
        "id": "E24LoUQbXsQe",
        "colab": {
          "base_uri": "https://localhost:8080/",
          "height": 0
        },
        "outputId": "51b77dc7-0cf5-42df-e05f-88cefbcc7965"
      },
      "outputs": [
        {
          "output_type": "stream",
          "name": "stdout",
          "text": [
            "Accuracy: 71.41%\n",
            "\n",
            "F1 Score: 71.41\n"
          ]
        }
      ],
      "source": [
        "ylog_pred_18 = lr1.predict(df4_test_vect)\n",
        "\n",
        "print(\"Accuracy: {:.2f}%\".format(accuracy_score(df4_test_label, ylog_pred_18) * 100))\n",
        "print(\"\\nF1 Score: {:.2f}\".format(f1_score(df4_test_label, ylog_pred_18, average='micro') * 100))"
      ]
    },
    {
      "cell_type": "code",
      "execution_count": 32,
      "metadata": {
        "id": "iifTV-k-Xtuq",
        "colab": {
          "base_uri": "https://localhost:8080/",
          "height": 0
        },
        "outputId": "90f399d0-70c9-41fb-83b0-1594b5776e39"
      },
      "outputs": [
        {
          "output_type": "stream",
          "name": "stdout",
          "text": [
            "Accuracy: 75.00%\n",
            "\n",
            "F1 Score: 75.00\n"
          ]
        }
      ],
      "source": [
        "nb1 = MultinomialNB(alpha=0.1,fit_prior=True)\n",
        "\n",
        "nb1.fit(df1_train_vect, df1_train_label)\n",
        "ynb_pred = nb1.predict(df1_test_vect)\n",
        "\n",
        "print(\"Accuracy: {:.2f}%\".format(accuracy_score(df1_test_label, ynb_pred) * 100))\n",
        "print(\"\\nF1 Score: {:.2f}\".format(f1_score(df1_test_label, ynb_pred, average='micro') * 100))"
      ]
    },
    {
      "cell_type": "code",
      "execution_count": 33,
      "metadata": {
        "id": "FbOC2xzVXvYp",
        "colab": {
          "base_uri": "https://localhost:8080/",
          "height": 0
        },
        "outputId": "343a977a-a739-4da0-bb02-95ec821e0722"
      },
      "outputs": [
        {
          "output_type": "stream",
          "name": "stdout",
          "text": [
            "Accuracy: 71.38%\n",
            "\n",
            "F1 Score: 71.38\n"
          ]
        }
      ],
      "source": [
        "ynb_pred_18 = nb1.predict(df4_test_vect)\n",
        "\n",
        "print(\"Accuracy: {:.2f}%\".format(accuracy_score(df4_test_label, ynb_pred_18) * 100))\n",
        "print(\"\\nF1 Score: {:.2f}\".format(f1_score(df4_test_label, ynb_pred_18, average='micro') * 100))"
      ]
    },
    {
      "cell_type": "code",
      "execution_count": 34,
      "metadata": {
        "id": "_ZfHRZr6Xw6N",
        "colab": {
          "base_uri": "https://localhost:8080/",
          "height": 0
        },
        "outputId": "3d6669d9-fa13-4719-feb5-efd1b033bf21"
      },
      "outputs": [
        {
          "output_type": "stream",
          "name": "stdout",
          "text": [
            "Accuracy: 72.22%\n",
            "\n",
            "F1 Score: 72.22\n"
          ]
        }
      ],
      "source": [
        "rf1= RandomForestClassifier(n_estimators=100,criterion='entropy',n_jobs=-1)\n",
        "\n",
        "rf1.fit(df1_train_vect, df1_train_label)\n",
        "yrf_pred = rf1.predict(df1_test_vect)\n",
        "\n",
        "print(\"Accuracy: {:.2f}%\".format(accuracy_score(df1_test_label, yrf_pred) * 100))\n",
        "print(\"\\nF1 Score: {:.2f}\".format(f1_score(df1_test_label, yrf_pred, average='micro') * 100))"
      ]
    },
    {
      "cell_type": "code",
      "execution_count": 35,
      "metadata": {
        "id": "P4Lm5bCVXycI",
        "colab": {
          "base_uri": "https://localhost:8080/",
          "height": 0
        },
        "outputId": "c366cc77-0549-480e-df5b-8aae0c1b8e4e"
      },
      "outputs": [
        {
          "output_type": "stream",
          "name": "stdout",
          "text": [
            "Accuracy: 71.17%\n",
            "\n",
            "F1 Score: 71.17\n"
          ]
        }
      ],
      "source": [
        "yrf_pred_18 = rf1.predict(df4_test_vect)\n",
        "\n",
        "print(\"Accuracy: {:.2f}%\".format(accuracy_score(df4_test_label, yrf_pred_18) * 100))\n",
        "print(\"\\nF1 Score: {:.2f}\".format(f1_score(df4_test_label, yrf_pred_18, average='micro') * 100))"
      ]
    },
    {
      "cell_type": "markdown",
      "source": [
        "###As we have got highest accuracy with Multinomial Naive Bayes Classifier, we will predict the sentiments using that model.\n",
        "###Below are the sample texts given to the model to predict the sentiments of the user"
      ],
      "metadata": {
        "id": "zWqC8nSKuzk_"
      }
    },
    {
      "cell_type": "code",
      "source": [
        "# Predicting the sentiment by giving sample text\n",
        "sample_text = \"I really liked this product. Good fabric and nice colour\"\n",
        "\n",
        "# Preprocess the sample text\n",
        "sample_text_processed = processtext(sample_text)\n",
        "\n",
        "# Transform the preprocessed sample text into a TF-IDF vector\n",
        "sample_text_vect = tf_vect1.transform([\" \".join(sample_text_processed)])\n",
        "\n",
        "# Use the trained Naive Bayes classifier to predict the sentiment\n",
        "sentiment_prediction = nb1.predict(sample_text_vect)\n",
        "\n",
        "# Print the sentiment prediction\n",
        "if sentiment_prediction == -1:\n",
        "    print(\"Negative sentiment\")\n",
        "elif sentiment_prediction == 0:\n",
        "    print(\"Neutral sentiment\")\n",
        "elif sentiment_prediction == 1:\n",
        "    print(\"Positive sentiment\")\n",
        "else:\n",
        "    print(\"Sentiment prediction error\")\n"
      ],
      "metadata": {
        "colab": {
          "base_uri": "https://localhost:8080/",
          "height": 0
        },
        "id": "Tk1k8HJvtR5W",
        "outputId": "6c140070-f244-4ca2-e7af-486ed8cd6074"
      },
      "execution_count": 59,
      "outputs": [
        {
          "output_type": "stream",
          "name": "stdout",
          "text": [
            "Positive sentiment\n"
          ]
        }
      ]
    },
    {
      "cell_type": "code",
      "source": [
        "# Predicting the sentiment by giving sample text\n",
        "sample_text = \"Not worth it, wastage of money\"\n",
        "\n",
        "# Preprocess the sample text\n",
        "sample_text_processed = processtext(sample_text)\n",
        "\n",
        "# Transform the preprocessed sample text into a TF-IDF vector\n",
        "sample_text_vect = tf_vect1.transform([\" \".join(sample_text_processed)])\n",
        "\n",
        "# Use the trained Naive Bayes classifier to predict the sentiment\n",
        "sentiment_prediction = nb1.predict(sample_text_vect)\n",
        "\n",
        "# Print the sentiment prediction\n",
        "if sentiment_prediction == -1:\n",
        "    print(\"Negative sentiment\")\n",
        "elif sentiment_prediction == 0:\n",
        "    print(\"Neutral sentiment\")\n",
        "elif sentiment_prediction == 1:\n",
        "    print(\"Positive sentiment\")\n",
        "else:\n",
        "    print(\"Sentiment prediction error\")\n"
      ],
      "metadata": {
        "colab": {
          "base_uri": "https://localhost:8080/",
          "height": 0
        },
        "id": "6QfSo4Vftq3B",
        "outputId": "9e81306a-57f2-4348-93a7-04b256529b6c"
      },
      "execution_count": 60,
      "outputs": [
        {
          "output_type": "stream",
          "name": "stdout",
          "text": [
            "Negative sentiment\n"
          ]
        }
      ]
    }
  ],
  "metadata": {
    "colab": {
      "provenance": [],
      "authorship_tag": "ABX9TyNm5LjUo4+nnbllN8KWAPcw",
      "include_colab_link": true
    },
    "kernelspec": {
      "display_name": "Python 3",
      "name": "python3"
    },
    "language_info": {
      "name": "python"
    }
  },
  "nbformat": 4,
  "nbformat_minor": 0
}